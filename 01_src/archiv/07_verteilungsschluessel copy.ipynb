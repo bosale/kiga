{
 "cells": [
  {
   "cell_type": "code",
   "execution_count": 1,
   "metadata": {},
   "outputs": [],
   "source": [
    "from helpers import get_letter, get_meta_info, read_specific_data, get_sheet_name\n",
    "import pandas as pd\n",
    "import re"
   ]
  },
  {
   "cell_type": "code",
   "execution_count": 2,
   "metadata": {},
   "outputs": [
    {
     "name": "stdout",
     "output_type": "stream",
     "text": [
      "<configparser.ConfigParser object at 0x00000227C430C2C0>\n",
      "Value for traegerorganisation in file JA 2021 MG_2.xls is: B_Deckblatt\n"
     ]
    }
   ],
   "source": [
    "file_name = 'JA 2021 MG_2.xls' \n",
    "sheet_name = get_sheet_name(file_name, \"traegerorganisation\")"
   ]
  },
  {
   "cell_type": "code",
   "execution_count": 18,
   "metadata": {},
   "outputs": [
    {
     "name": "stdout",
     "output_type": "stream",
     "text": [
      "<configparser.ConfigParser object at 0x00000227C9B55C10>\n",
      "Value for verteilungsschluessel in file JA 2021 MG_2.xls is: B_Deckblatt\n",
      "file_path: '..\\02_data\\01_input\\nok\\JA 2021 MG_2.xls', skip_to: 15, amount_of_rows: 4\n"
     ]
    },
    {
     "data": {
      "text/html": [
       "<div>\n",
       "<style scoped>\n",
       "    .dataframe tbody tr th:only-of-type {\n",
       "        vertical-align: middle;\n",
       "    }\n",
       "\n",
       "    .dataframe tbody tr th {\n",
       "        vertical-align: top;\n",
       "    }\n",
       "\n",
       "    .dataframe thead th {\n",
       "        text-align: right;\n",
       "    }\n",
       "</style>\n",
       "<table border=\"1\" class=\"dataframe\">\n",
       "  <thead>\n",
       "    <tr style=\"text-align: right;\">\n",
       "      <th></th>\n",
       "      <th>jahr</th>\n",
       "      <th>Kindergarten_Kindergruppe</th>\n",
       "      <th>Hort</th>\n",
       "      <th>ebene_1</th>\n",
       "      <th>ebene_2</th>\n",
       "      <th>ebene_3</th>\n",
       "      <th>source</th>\n",
       "    </tr>\n",
       "  </thead>\n",
       "  <tbody>\n",
       "    <tr>\n",
       "      <th>0</th>\n",
       "      <td>2020.0</td>\n",
       "      <td>1</td>\n",
       "      <td>0</td>\n",
       "      <td>C. VERTEILUNGSSCHLÜSSEL KINDERGARTEN/KINDERGRU...</td>\n",
       "      <td>n. a.</td>\n",
       "      <td>n. a.</td>\n",
       "      <td>JA 2021 MG_2.xls#B_Deckblatt</td>\n",
       "    </tr>\n",
       "    <tr>\n",
       "      <th>1</th>\n",
       "      <td>2021.0</td>\n",
       "      <td>1</td>\n",
       "      <td>0</td>\n",
       "      <td>C. VERTEILUNGSSCHLÜSSEL KINDERGARTEN/KINDERGRU...</td>\n",
       "      <td>n. a.</td>\n",
       "      <td>n. a.</td>\n",
       "      <td>JA 2021 MG_2.xls#B_Deckblatt</td>\n",
       "    </tr>\n",
       "  </tbody>\n",
       "</table>\n",
       "</div>"
      ],
      "text/plain": [
       "     jahr  Kindergarten_Kindergruppe  Hort  \\\n",
       "0  2020.0                          1     0   \n",
       "1  2021.0                          1     0   \n",
       "\n",
       "                                             ebene_1 ebene_2 ebene_3  \\\n",
       "0  C. VERTEILUNGSSCHLÜSSEL KINDERGARTEN/KINDERGRU...   n. a.   n. a.   \n",
       "1  C. VERTEILUNGSSCHLÜSSEL KINDERGARTEN/KINDERGRU...   n. a.   n. a.   \n",
       "\n",
       "                         source  \n",
       "0  JA 2021 MG_2.xls#B_Deckblatt  \n",
       "1  JA 2021 MG_2.xls#B_Deckblatt  "
      ]
     },
     "execution_count": 18,
     "metadata": {},
     "output_type": "execute_result"
    }
   ],
   "source": [
    "usecols = \"J, K, L, M, N, O,P,Q\"\n",
    "start_row = 1\n",
    "skip_from = start_row = 1\n",
    "end_row = start_row + 50\n",
    "\n",
    "file_path, skip_to, amount_of_rows = get_meta_info(file_name, start_row, end_row)\n",
    "sheet_name = get_sheet_name(file_name, \"verteilungsschluessel\")\n",
    "df = pd.read_excel(file_path, sheet_name=sheet_name, skiprows=range(skip_from, skip_to), nrows=amount_of_rows)\n",
    "\n",
    "\n",
    "pattern = r'.*Kindergarten/\\nKindergruppe.*'\n",
    "# Find the indices of the first cell that matches the regex pattern\n",
    "for row_index, row in enumerate(df.values):\n",
    "    for col_index, cell in enumerate(row):\n",
    "        match = re.search(pattern, str(cell))\n",
    "        if match:\n",
    "            matched_row_index = row_index  # Row index\n",
    "            matched_col_index = col_index  # Column index\n",
    "            break\n",
    "\n",
    "from_col_index = matched_col_index\n",
    "to_col_index  = from_col_index+4\n",
    "\n",
    "\n",
    "# Create a list of column letters using get_letter(x) function\n",
    "columns = [get_letter(x) for x in range(from_col_index, to_col_index)]\n",
    "\n",
    "# Join the list of column letters into a comma-separated string\n",
    "usecols = \", \".join(columns)\n",
    "\n",
    "start_row = matched_row_index+2\n",
    "end_row = start_row + 3\n",
    "ebene_1 = \"C. VERTEILUNGSSCHLÜSSEL KINDERGARTEN/KINDERGRUPPE UND HORT 1)\"\n",
    "ebene_2 = ''\n",
    "ebene_3 = ''\n",
    "table_name = 'Deckblatt_Verteilungsschluessel'\n",
    "\n",
    "# ggf. direkt aus obigem df rauslesen\n",
    "df = read_specific_data(file_name, start_row, end_row, sheet_name, usecols, ebene_1, ebene_2, ebene_3)\n",
    "df.columns.values[0] = 'jahr'\n",
    "\n",
    "df = df[df['jahr'] != 0]\n",
    "df.columns.values[1] = 'Kindergarten_Kindergruppe'\n",
    "df.columns.values[2] = 'TBD'\n",
    "df.columns.values[3] = 'Hort'\n",
    "df.reset_index(drop=True, inplace=True)\n",
    "df.columns = ['jahr', 'Kindergarten_Kindergruppe', 'TBD', 'Hort', 'ebene_1',\n",
    "       'ebene_2', 'ebene_3', 'source']\n",
    "df = df.drop(columns='TBD')\n",
    "df.head()\n"
   ]
  }
 ],
 "metadata": {
  "kernelspec": {
   "display_name": "Python 3",
   "language": "python",
   "name": "python3"
  },
  "language_info": {
   "codemirror_mode": {
    "name": "ipython",
    "version": 3
   },
   "file_extension": ".py",
   "mimetype": "text/x-python",
   "name": "python",
   "nbconvert_exporter": "python",
   "pygments_lexer": "ipython3",
   "version": "3.12.1"
  }
 },
 "nbformat": 4,
 "nbformat_minor": 2
}
