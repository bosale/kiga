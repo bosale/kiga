{
 "cells": [
  {
   "cell_type": "markdown",
   "metadata": {},
   "source": [
    "# Imports"
   ]
  },
  {
   "cell_type": "code",
   "execution_count": 1,
   "metadata": {},
   "outputs": [],
   "source": [
    "import pandas as pd\n",
    "from helpers import process_deckblatt, write_to_db, write_to_db"
   ]
  },
  {
   "cell_type": "code",
   "execution_count": 6,
   "metadata": {},
   "outputs": [
    {
     "name": "stdout",
     "output_type": "stream",
     "text": [
      "file_path: '..\\02_data\\01_input\\nok\\JA 2021 MG_2.xls', skip_to: 15, amount_of_rows: 2\n",
      "file_path: '..\\02_data\\01_input\\nok\\JA 2021 MG_2.xls', skip_to: 15, amount_of_rows: 2\n",
      "file_path: '..\\02_data\\01_input\\nok\\JA 2021 MG_2.xls', skip_to: 34, amount_of_rows: 2\n",
      "file_path: '..\\02_data\\01_input\\nok\\JA 2021 MG_2.xls', skip_to: 34, amount_of_rows: 2\n",
      "Getting get_traegerorganisation\n",
      "<configparser.ConfigParser object at 0x00000248B781A510>\n",
      "Value for traegerorganisation in file JA 2021 MG_2.xls is: B_Deckblatt\n",
      "Getting get_jahr_abrechnung\n",
      "<configparser.ConfigParser object at 0x00000248B77A65A0>\n",
      "Value for jahr_abrechnung in file JA 2021 MG_2.xls is: B_Deckblatt\n",
      "Data inserted successfully.\n"
     ]
    }
   ],
   "source": [
    "file_name = 'JA 2021 MG_2.xls'\n",
    "sheet_name = \"B_Deckblatt\"\n",
    "\n",
    "\n",
    "\n",
    "all_df = pd.DataFrame()\n",
    "\n",
    "\n",
    "\n",
    "# Definition von: ebene_1, start_row, end_row\n",
    "sheet_definitions = [(\"A. KINDERGÄRTEN UND KINDERGRUPPEN\", 16, 17), (\"B. HORT\", 35, 36)]\n",
    "\n",
    "ebene_2 = \"Anzahl der Standorte (Stichtag 31.12.2021)\"\n",
    "ebene_3 = ''\n",
    "\n",
    "# Tabellenname definieren\n",
    "table_name = 'Deckblatt_Standorte'\n",
    "\n",
    "for ebene_1, start_row, end_row in sheet_definitions:\n",
    "    for year in [2020, 2021]:\n",
    "        usecols = \"C,D,H\" if year == 2020 else \"C,E,H\"\n",
    "        df = process_deckblatt(file_name, start_row, end_row, sheet_name, usecols, year, ebene_1, ebene_2, ebene_3)\n",
    "        all_df = pd.concat([all_df, df], ignore_index=True)\n",
    "\n",
    "write_to_db(table_name, all_df, file_name, sheet_name)\n",
    "\n",
    "\n",
    "all_df = pd.DataFrame()\n",
    "\n",
    "\n",
    "# siehe oben\n",
    "sheet_definitions = [(\"A. KINDERGÄRTEN UND KINDERGRUPPEN\", 18, 21), (\"B. HORT\", 37, 38)]\n",
    "ebene_2 = \"Kinderanzahl alle Standorte (Jahresdurchschnitt)\"\n",
    "\n",
    "table_name = 'Deckblatt_Kinderanzahl'\n",
    "\n",
    "for ebene_1, start_row, end_row in sheet_definitions:\n",
    "    for year in [2020, 2021]:\n",
    "        usecols = \"C,D,H\" if year == 2020 else \"C,E,H\"\n",
    "        df = process_deckblatt(file_name, start_row, end_row, sheet_name, usecols, year, ebene_1, ebene_2, ebene_3)\n",
    "        all_df = pd.concat([all_df, df], ignore_index=True)\n",
    "\n",
    "write_to_db(table_name, all_df, file_name, sheet_name)\n",
    "\n",
    "\n",
    "all_df = pd.DataFrame()\n",
    "\n",
    "\n",
    "# siehe oben\n",
    "sheet_definitions = [(\"A. KINDERGÄRTEN UND KINDERGRUPPEN\", 22, 31), (\"B. HORT\", 39, 44)]\n",
    "ebene_2 = \"Gruppenanzahl aller Standorte (Stichtag 31.12.2021)\"\n",
    "table_name = 'Deckblatt_Gruppen'\n",
    "\n",
    "for ebene_1, start_row, end_row in sheet_definitions:\n",
    "    for year in [2020, 2021]:\n",
    "        usecols = \"C,D,H\" if year == 2020 else \"C,E,H\"\n",
    "        df = process_deckblatt(file_name, start_row, end_row, sheet_name, usecols, year, ebene_1, ebene_2, ebene_3)\n",
    "        all_df = pd.concat([all_df, df], ignore_index=True)\n",
    "        \n",
    "write_to_db(table_name, all_df, file_name, sheet_name)"
   ]
  }
 ],
 "metadata": {
  "kernelspec": {
   "display_name": "Python 3",
   "language": "python",
   "name": "python3"
  },
  "language_info": {
   "codemirror_mode": {
    "name": "ipython",
    "version": 3
   },
   "file_extension": ".py",
   "mimetype": "text/x-python",
   "name": "python",
   "nbconvert_exporter": "python",
   "pygments_lexer": "ipython3",
   "version": "3.12.1"
  }
 },
 "nbformat": 4,
 "nbformat_minor": 2
}
