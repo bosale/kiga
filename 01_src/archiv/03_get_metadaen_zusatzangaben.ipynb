{
 "cells": [
  {
   "cell_type": "markdown",
   "metadata": {},
   "source": [
    "# Imports"
   ]
  },
  {
   "cell_type": "code",
   "execution_count": 1,
   "metadata": {},
   "outputs": [],
   "source": [
    "from helpers import get_meta_info, read_specific_data, write_to_db"
   ]
  },
  {
   "cell_type": "markdown",
   "metadata": {},
   "source": [
    "# Definitions"
   ]
  },
  {
   "cell_type": "code",
   "execution_count": 2,
   "metadata": {},
   "outputs": [],
   "source": [
    "file_name = 'JA 2021 MG_2.xls'\n",
    "sheet_name = \"B_Zusatzangaben\"\n",
    "file_path, _, _ = get_meta_info(file_name, 1, 1)"
   ]
  },
  {
   "cell_type": "markdown",
   "metadata": {},
   "source": [
    "# Code"
   ]
  },
  {
   "cell_type": "code",
   "execution_count": 3,
   "metadata": {},
   "outputs": [
    {
     "name": "stdout",
     "output_type": "stream",
     "text": [
      "file_path: '..\\02_data\\01_input\\nok\\JA 2021 MG_2.xls', skip_to: 8, amount_of_rows: 14\n"
     ]
    },
    {
     "data": {
      "text/html": [
       "<div>\n",
       "<style scoped>\n",
       "    .dataframe tbody tr th:only-of-type {\n",
       "        vertical-align: middle;\n",
       "    }\n",
       "\n",
       "    .dataframe tbody tr th {\n",
       "        vertical-align: top;\n",
       "    }\n",
       "\n",
       "    .dataframe thead th {\n",
       "        text-align: right;\n",
       "    }\n",
       "</style>\n",
       "<table border=\"1\" class=\"dataframe\">\n",
       "  <thead>\n",
       "    <tr style=\"text-align: right;\">\n",
       "      <th></th>\n",
       "      <th>Eintrag</th>\n",
       "      <th>Name_Eintrag</th>\n",
       "      <th>Erlaeuterung</th>\n",
       "      <th>ebene_1</th>\n",
       "      <th>ebene_2</th>\n",
       "      <th>ebene_3</th>\n",
       "      <th>source</th>\n",
       "    </tr>\n",
       "  </thead>\n",
       "  <tbody>\n",
       "    <tr>\n",
       "      <th>0</th>\n",
       "      <td>Fanden im Geschäftsjahr Generalversammlungen\\n...</td>\n",
       "      <td>Ja</td>\n",
       "      <td>wenn ja, bitte die entsprechenden Protokolle d...</td>\n",
       "      <td>B_ZUSATZANGABEN</td>\n",
       "      <td>n. a.</td>\n",
       "      <td>n. a.</td>\n",
       "      <td>JA 2021 MG_2.xls</td>\n",
       "    </tr>\n",
       "    <tr>\n",
       "      <th>2</th>\n",
       "      <td>Wurden im Geschäftsjahr neue Insichgeschäfte\\n...</td>\n",
       "      <td>Nein</td>\n",
       "      <td>wenn ja, bitte um Erläuterung und Übermittlung...</td>\n",
       "      <td>B_ZUSATZANGABEN</td>\n",
       "      <td>n. a.</td>\n",
       "      <td>n. a.</td>\n",
       "      <td>JA 2021 MG_2.xls</td>\n",
       "    </tr>\n",
       "    <tr>\n",
       "      <th>4</th>\n",
       "      <td>Gab es im Geschäftsjahr unterjährig\\nnegative ...</td>\n",
       "      <td>Nein</td>\n",
       "      <td>wenn ja, bitte um Erläuterung warum diese ents...</td>\n",
       "      <td>B_ZUSATZANGABEN</td>\n",
       "      <td>n. a.</td>\n",
       "      <td>n. a.</td>\n",
       "      <td>JA 2021 MG_2.xls</td>\n",
       "    </tr>\n",
       "    <tr>\n",
       "      <th>6</th>\n",
       "      <td>Wurde im Geschäftsjahr ein Fahrzeug verwendet\\...</td>\n",
       "      <td>Ja</td>\n",
       "      <td>wenn ja, bitte um Übermittlung der entsprechen...</td>\n",
       "      <td>B_ZUSATZANGABEN</td>\n",
       "      <td>n. a.</td>\n",
       "      <td>n. a.</td>\n",
       "      <td>JA 2021 MG_2.xls</td>\n",
       "    </tr>\n",
       "    <tr>\n",
       "      <th>8</th>\n",
       "      <td>Ist die Gewinn- und Verlustrechnung mit den Da...</td>\n",
       "      <td>Ja</td>\n",
       "      <td>wenn nein, bitte um Übermittlung der Details z...</td>\n",
       "      <td>B_ZUSATZANGABEN</td>\n",
       "      <td>n. a.</td>\n",
       "      <td>n. a.</td>\n",
       "      <td>JA 2021 MG_2.xls</td>\n",
       "    </tr>\n",
       "  </tbody>\n",
       "</table>\n",
       "</div>"
      ],
      "text/plain": [
       "0                                            Eintrag Name_Eintrag  \\\n",
       "0  Fanden im Geschäftsjahr Generalversammlungen\\n...           Ja   \n",
       "2  Wurden im Geschäftsjahr neue Insichgeschäfte\\n...         Nein   \n",
       "4  Gab es im Geschäftsjahr unterjährig\\nnegative ...         Nein   \n",
       "6  Wurde im Geschäftsjahr ein Fahrzeug verwendet\\...           Ja   \n",
       "8  Ist die Gewinn- und Verlustrechnung mit den Da...           Ja   \n",
       "\n",
       "0                                       Erlaeuterung          ebene_1 ebene_2  \\\n",
       "0  wenn ja, bitte die entsprechenden Protokolle d...  B_ZUSATZANGABEN   n. a.   \n",
       "2  wenn ja, bitte um Erläuterung und Übermittlung...  B_ZUSATZANGABEN   n. a.   \n",
       "4  wenn ja, bitte um Erläuterung warum diese ents...  B_ZUSATZANGABEN   n. a.   \n",
       "6  wenn ja, bitte um Übermittlung der entsprechen...  B_ZUSATZANGABEN   n. a.   \n",
       "8  wenn nein, bitte um Übermittlung der Details z...  B_ZUSATZANGABEN   n. a.   \n",
       "\n",
       "0 ebene_3            source  \n",
       "0   n. a.  JA 2021 MG_2.xls  \n",
       "2   n. a.  JA 2021 MG_2.xls  \n",
       "4   n. a.  JA 2021 MG_2.xls  \n",
       "6   n. a.  JA 2021 MG_2.xls  \n",
       "8   n. a.  JA 2021 MG_2.xls  "
      ]
     },
     "execution_count": 3,
     "metadata": {},
     "output_type": "execute_result"
    }
   ],
   "source": [
    "start_row = 9\n",
    "end_row = 22\n",
    "\n",
    "ebene_1  = \"B_ZUSATZANGABEN\"\n",
    "ebene_2  = \"\"\n",
    "ebene_3  = \"\"\n",
    "use_col = \"A, C, F\"\n",
    "col_name_primary = \"Eintrag\"\n",
    "\n",
    "data = read_specific_data(file_name, start_row, end_row, sheet_name, use_col, ebene_1, ebene_2, ebene_3)\n",
    "data.columns.values[0] =col_name_primary\n",
    "data.columns.values[1] = \"Name_Eintrag\"\n",
    "data.columns.values[2] = \"Erlaeuterung\"\n",
    "data = data[data[col_name_primary] != 0]\n",
    "data.head()"
   ]
  },
  {
   "cell_type": "code",
   "execution_count": 6,
   "metadata": {},
   "outputs": [
    {
     "name": "stdout",
     "output_type": "stream",
     "text": [
      "file_path: '..\\02_data\\01_input\\nok\\JA 2021 MG_2.xls', skip_to: 2, amount_of_rows: 2\n",
      "file_path: '..\\02_data\\01_input\\nok\\JA 2021 MG_2.xls', skip_to: 1, amount_of_rows: 1\n",
      "Data inserted successfully.\n"
     ]
    }
   ],
   "source": [
    "table_name = 'Metadaten'\n",
    "data['Eintrag'] = data['Eintrag'].astype('object')\n",
    "write_to_db(table_name, data, file_name, sql_types = sql_types_metadata)"
   ]
  }
 ],
 "metadata": {
  "kernelspec": {
   "display_name": "Python 3",
   "language": "python",
   "name": "python3"
  },
  "language_info": {
   "codemirror_mode": {
    "name": "ipython",
    "version": 3
   },
   "file_extension": ".py",
   "mimetype": "text/x-python",
   "name": "python",
   "nbconvert_exporter": "python",
   "pygments_lexer": "ipython3",
   "version": "3.12.1"
  }
 },
 "nbformat": 4,
 "nbformat_minor": 2
}
