{
 "cells": [
  {
   "cell_type": "markdown",
   "metadata": {},
   "source": [
    "# Imports"
   ]
  },
  {
   "cell_type": "code",
   "execution_count": 1,
   "metadata": {},
   "outputs": [],
   "source": [
    "import pandas as pd\n",
    "\n",
    "from helpers import get_meta_info, read_specific_data, get_letter, columns_with_value_contains, write_to_db, sql_types_metadata"
   ]
  },
  {
   "cell_type": "markdown",
   "metadata": {},
   "source": [
    "# Definitions"
   ]
  },
  {
   "cell_type": "code",
   "execution_count": 2,
   "metadata": {},
   "outputs": [],
   "source": [
    "file_name = 'JA 2021 MG_2.xls'\n",
    "sheet_name = \"Pasettistraße 1OG\"\n",
    "file_path, _, _ = get_meta_info(file_name, 1, 1)"
   ]
  },
  {
   "cell_type": "markdown",
   "metadata": {},
   "source": [
    "# Code"
   ]
  },
  {
   "cell_type": "code",
   "execution_count": 3,
   "metadata": {},
   "outputs": [
    {
     "name": "stdout",
     "output_type": "stream",
     "text": [
      "file_path: '..\\02_data\\01_input\\nok\\JA 2021 MG_2.xls', skip_to: 44, amount_of_rows: 15\n",
      "file_path: '..\\02_data\\01_input\\nok\\JA 2021 MG_2.xls', skip_to: 2, amount_of_rows: 2\n",
      "file_path: '..\\02_data\\01_input\\nok\\JA 2021 MG_2.xls', skip_to: 1, amount_of_rows: 1\n",
      "Data inserted successfully.\n"
     ]
    }
   ],
   "source": [
    "# vorgehen wie in 04_get_metadaten_schliesszeiten\n",
    "\n",
    "# read the whole sheet\n",
    "df = pd.read_excel(file_path, sheet_name=sheet_name, nrows=1000)\n",
    "\n",
    "# use simple regex to find the starting start_row. The \"key_word\" indicates the starting point. \n",
    "key_word = 'D. ÖFFNUNGSZEITEN'\n",
    "\n",
    "\n",
    "mask = df.apply(lambda row: row.astype(str).str.contains(key_word, case=False).any(), axis=1)\n",
    "rows_with_key_word = df[mask]\n",
    "\n",
    "\n",
    "start_row = rows_with_key_word.index[0] + 2 # due to header columns etc.\n",
    "end_row = start_row + 14\n",
    "\n",
    "# find the starting columns, returns column name (based on dataframe, and column where the data is located)\n",
    "columns_containing = columns_with_value_contains(rows_with_key_word, key_word)\n",
    "\n",
    "alle_zeiten = pd.DataFrame()\n",
    "ebene_1  = \"D. ÖFFNUNGSZEITEN 3)\"\n",
    "ebene_2  = \"n. a.\"\n",
    "ebene_3  = \"n. a.\"\n",
    "erlaeuterung = 'n. a.'\n",
    "\n",
    "for _, idx, in columns_containing:\n",
    "    use_col = get_letter(idx+2) + \", Q\"\n",
    "    data = read_specific_data(file_name, start_row, end_row, sheet_name, use_col, ebene_1, ebene_2, ebene_3)\n",
    "    data = data.iloc[1:]\n",
    "    alle_zeiten = pd.concat([alle_zeiten, data], ignore_index=True)\n",
    "\n",
    "alle_zeiten.columns.values[0] = \"Name_Eintrag\"\n",
    "alle_zeiten.columns.values[1] = \"Eintrag\"\n",
    "alle_zeiten['Erlaeuterung'] = erlaeuterung\n",
    "\n",
    "table_name = 'Metadaten'\n",
    "alle_zeiten['Eintrag'] = alle_zeiten['Eintrag'].astype('object')\n",
    "write_to_db(table_name, alle_zeiten, file_name, sql_types = sql_types_metadata)"
   ]
  }
 ],
 "metadata": {
  "kernelspec": {
   "display_name": "Python 3",
   "language": "python",
   "name": "python3"
  },
  "language_info": {
   "codemirror_mode": {
    "name": "ipython",
    "version": 3
   },
   "file_extension": ".py",
   "mimetype": "text/x-python",
   "name": "python",
   "nbconvert_exporter": "python",
   "pygments_lexer": "ipython3",
   "version": "3.12.1"
  }
 },
 "nbformat": 4,
 "nbformat_minor": 2
}
