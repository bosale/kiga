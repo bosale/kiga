{
 "cells": [
  {
   "cell_type": "markdown",
   "metadata": {},
   "source": [
    "# Imports"
   ]
  },
  {
   "cell_type": "code",
   "execution_count": 1,
   "metadata": {},
   "outputs": [],
   "source": [
    "import pandas as pd\n",
    "from helpers import read_specific_data, get_jahr_abrechnung, write_to_db\n",
    "import sys"
   ]
  },
  {
   "cell_type": "markdown",
   "metadata": {},
   "source": [
    "# Kingergärten"
   ]
  },
  {
   "cell_type": "code",
   "execution_count": 2,
   "metadata": {},
   "outputs": [],
   "source": [
    "def get_part_one(sheet_name, file_name):\n",
    "    all_df = pd.DataFrame()\n",
    "\n",
    "\n",
    "    # Schema: kategorie, start_row, end_row\n",
    "    sheet_definitions = [(14, 19)]\n",
    "    usecols = \"A, F, G\"\n",
    "    year =  get_jahr_abrechnung(file_name, sheet_name = 'B_Deckblatt', start_row = 2, usecols = \"D\")\n",
    "\n",
    "    # ebenen definieren lt. Excel\n",
    "    ebene_1 = \"A. Elternbeiträge\"\n",
    "    ebene_2 = \"KINDERGÄRTEN UND KINDERGRUPPEN\"\n",
    "    ebene_3 = 'Verpflegung:'\n",
    "    col_name_ebene_4 = 'KINDERGÄRTEN UND KINDERGRUPPEN'\n",
    "\n",
    "    # iteration durch die Definition\n",
    "    for start_row, end_row in sheet_definitions:\n",
    "        df = read_specific_data(file_name, start_row, end_row, sheet_name, usecols, ebene_1, ebene_2, ebene_3 = '')\n",
    "        df['jahr'] = year\n",
    "        df['ebene_3'] = ebene_3\n",
    "\n",
    "        # ebene_4, error handling if column is mising\n",
    "        try:\n",
    "            df['ebene_4'] = df[col_name_ebene_4] # ist immer dynamisch\n",
    "            df.drop([col_name_ebene_4], axis=1, inplace=True)  # ist immer dynamisch\n",
    "        except KeyError as e:\n",
    "            print(e)\n",
    "            df.head()\n",
    "            sys.exit(1)  # Exit the program with an error code\n",
    "\n",
    "        df.columns.values[0] = \"betrag_euro\"  # ist immer dynamisch\n",
    "        df.columns.values[1] = \"anzahl_pro_jahr\"  # ist immer dynamisch\n",
    "        df = df.iloc[2:]\n",
    "        all_df = pd.concat([all_df, df], ignore_index=True)\n",
    "\n",
    "    return all_df"
   ]
  },
  {
   "cell_type": "code",
   "execution_count": 3,
   "metadata": {},
   "outputs": [],
   "source": [
    "def get_part_two(sheet_name, file_name):\n",
    "    # Schema: start_row, end_row\n",
    "    sheet_definitions = [(42, 46)]\n",
    "    usecols = \"A, F\"\n",
    "    year = get_jahr_abrechnung(file_name, sheet_name = 'B_Deckblatt', start_row = 2, usecols = \"D\")\n",
    "\n",
    "    ebene_1 = \"A. Elternbeiträge\"\n",
    "    ebene_2 = \"KINDERGÄRTEN UND KINDERGRUPPEN\"\n",
    "    ebene_3 = 'Einmalzahlungen pro Kind:'\n",
    "    col_name_ebene_4 = 'Einmalzahlungen pro Kind:'\n",
    "\n",
    "    start_row = sheet_definitions[0][0]\n",
    "    end_row = sheet_definitions[0][1]\n",
    "    df = read_specific_data(file_name, start_row, end_row, sheet_name, usecols, ebene_1, ebene_2, ebene_3 = '')\n",
    "    df['jahr'] = year\n",
    "    df['ebene_3'] = ebene_3\n",
    "\n",
    "    try:\n",
    "        df['ebene_4'] = df[col_name_ebene_4] # ist immer dynamisch\n",
    "        df.drop([col_name_ebene_4], axis=1, inplace=True)  # ist immer dynamisch\n",
    "    except KeyError as e:\n",
    "        print(e)\n",
    "        df.head()\n",
    "        sys.exit(1)  # Exit the program with an error code\n",
    "\n",
    "\n",
    "    df.columns.values[0] = \"betrag_euro\"  # ist immer dynamisch\n",
    "    df['anzahl_pro_jahr'] = ''\n",
    "    df = df.iloc[1:]\n",
    "    return df"
   ]
  },
  {
   "cell_type": "markdown",
   "metadata": {},
   "source": [
    "# Hort"
   ]
  },
  {
   "cell_type": "code",
   "execution_count": 4,
   "metadata": {},
   "outputs": [],
   "source": [
    "def hort_get_part_one(sheet_name, file_name):\n",
    "    all_df = pd.DataFrame()\n",
    "\n",
    "\n",
    "    # Schema: start_row, end_row\n",
    "    sheet_definitions = [(49, 53)]\n",
    "    usecols = \"A, F, G\"\n",
    "    year =  get_jahr_abrechnung(file_name, sheet_name = 'B_Deckblatt', start_row = 2, usecols = \"D\")\n",
    "\n",
    "    ebene_1 = \"A. Elternbeiträge\"\n",
    "    ebene_2 = \"HORT\"\n",
    "    ebene_3 = 'Elternbeiträge pro Kind:'\n",
    "    col_name_ebene_4 = 'HORT'\n",
    "\n",
    "    for start_row, end_row in sheet_definitions:\n",
    "        df = read_specific_data(file_name, start_row, end_row, sheet_name, usecols, ebene_1, ebene_2, ebene_3 = '')\n",
    "        df['jahr'] = year\n",
    "        df['ebene_3'] = ebene_3\n",
    "\n",
    "        # ebene_4\n",
    "        try:\n",
    "            df['ebene_4'] = df[col_name_ebene_4] # ist immer dynamisch\n",
    "            df.drop([col_name_ebene_4], axis=1, inplace=True)  # ist immer dynamisch\n",
    "        except KeyError as e:\n",
    "            print(e)\n",
    "            df.head()\n",
    "            # sys.exit(1)  # Exit the program with an error code\n",
    "\n",
    "        df.columns.values[0] = \"betrag_euro\"  # ist immer dynamisch\n",
    "        df.columns.values[1] = \"anzahl_pro_jahr\"  # ist immer dynamisch\n",
    "        df = df.iloc[2:]\n",
    "        all_df = pd.concat([all_df, df], ignore_index=True)\n",
    "    return all_df"
   ]
  },
  {
   "cell_type": "code",
   "execution_count": 5,
   "metadata": {},
   "outputs": [],
   "source": [
    "def hort_get_part_two(sheet_name, file_name, sheet_definitions, usecols, ebene_1, ebene_2, ebene_3):\n",
    "    year = get_jahr_abrechnung(file_name, sheet_name = 'B_Deckblatt', start_row = 2, usecols = \"D\")\n",
    "    col_name_ebene_4 = ebene_3\n",
    "\n",
    "    start_row = sheet_definitions[0][0]\n",
    "    end_row = sheet_definitions[0][1]\n",
    "    df = read_specific_data(file_name, start_row, end_row, sheet_name, usecols, ebene_1, ebene_2, ebene_3 = '')\n",
    "    df['jahr'] = year\n",
    "    df['ebene_3'] = ebene_3\n",
    "\n",
    "    try:\n",
    "        df['ebene_4'] = df[col_name_ebene_4] # ist immer dynamisch\n",
    "        df.drop([col_name_ebene_4], axis=1, inplace=True)  # ist immer dynamisch\n",
    "    except KeyError as e:\n",
    "        print(e)\n",
    "        df.head()\n",
    "        sys.exit(1)  # Exit the program with an error code\n",
    "\n",
    "\n",
    "    df.columns.values[0] = \"betrag_euro\"  # ist immer dynamisch\n",
    "    df['anzahl_pro_jahr'] = ''\n",
    "    df = df.iloc[1:]\n",
    "\n",
    "    return df"
   ]
  },
  {
   "cell_type": "markdown",
   "metadata": {},
   "source": [
    "# Hort und Kindergarten"
   ]
  },
  {
   "cell_type": "code",
   "execution_count": 6,
   "metadata": {},
   "outputs": [
    {
     "name": "stdout",
     "output_type": "stream",
     "text": [
      "file_path: '..\\02_data\\01_input\\nok\\JA 2021 MG_2.xls', skip_to: 1, amount_of_rows: 1\n",
      "file_path: '..\\02_data\\01_input\\nok\\JA 2021 MG_2.xls', skip_to: 13, amount_of_rows: 6\n",
      "file_path: '..\\02_data\\01_input\\nok\\JA 2021 MG_2.xls', skip_to: 1, amount_of_rows: 1\n",
      "file_path: '..\\02_data\\01_input\\nok\\JA 2021 MG_2.xls', skip_to: 41, amount_of_rows: 5\n",
      "file_path: '..\\02_data\\01_input\\nok\\JA 2021 MG_2.xls', skip_to: 1, amount_of_rows: 1\n",
      "file_path: '..\\02_data\\01_input\\nok\\JA 2021 MG_2.xls', skip_to: 13, amount_of_rows: 6\n",
      "file_path: '..\\02_data\\01_input\\nok\\JA 2021 MG_2.xls', skip_to: 1, amount_of_rows: 1\n",
      "file_path: '..\\02_data\\01_input\\nok\\JA 2021 MG_2.xls', skip_to: 41, amount_of_rows: 5\n",
      "file_path: '..\\02_data\\01_input\\nok\\JA 2021 MG_2.xls', skip_to: 1, amount_of_rows: 1\n",
      "file_path: '..\\02_data\\01_input\\nok\\JA 2021 MG_2.xls', skip_to: 13, amount_of_rows: 6\n",
      "file_path: '..\\02_data\\01_input\\nok\\JA 2021 MG_2.xls', skip_to: 1, amount_of_rows: 1\n",
      "file_path: '..\\02_data\\01_input\\nok\\JA 2021 MG_2.xls', skip_to: 41, amount_of_rows: 5\n",
      "file_path: '..\\02_data\\01_input\\nok\\JA 2021 MG_2.xls', skip_to: 1, amount_of_rows: 1\n",
      "file_path: '..\\02_data\\01_input\\nok\\JA 2021 MG_2.xls', skip_to: 13, amount_of_rows: 6\n",
      "file_path: '..\\02_data\\01_input\\nok\\JA 2021 MG_2.xls', skip_to: 1, amount_of_rows: 1\n",
      "file_path: '..\\02_data\\01_input\\nok\\JA 2021 MG_2.xls', skip_to: 41, amount_of_rows: 5\n",
      "file_path: '..\\02_data\\01_input\\nok\\JA 2021 MG_2.xls', skip_to: 1, amount_of_rows: 1\n",
      "file_path: '..\\02_data\\01_input\\nok\\JA 2021 MG_2.xls', skip_to: 13, amount_of_rows: 6\n",
      "file_path: '..\\02_data\\01_input\\nok\\JA 2021 MG_2.xls', skip_to: 1, amount_of_rows: 1\n",
      "file_path: '..\\02_data\\01_input\\nok\\JA 2021 MG_2.xls', skip_to: 41, amount_of_rows: 5\n",
      "file_path: '..\\02_data\\01_input\\nok\\JA 2021 MG_2.xls', skip_to: 1, amount_of_rows: 1\n",
      "file_path: '..\\02_data\\01_input\\nok\\JA 2021 MG_2.xls', skip_to: 13, amount_of_rows: 6\n",
      "file_path: '..\\02_data\\01_input\\nok\\JA 2021 MG_2.xls', skip_to: 1, amount_of_rows: 1\n",
      "file_path: '..\\02_data\\01_input\\nok\\JA 2021 MG_2.xls', skip_to: 41, amount_of_rows: 5\n",
      "file_path: '..\\02_data\\01_input\\nok\\JA 2021 MG_2.xls', skip_to: 1, amount_of_rows: 1\n",
      "file_path: '..\\02_data\\01_input\\nok\\JA 2021 MG_2.xls', skip_to: 48, amount_of_rows: 5\n",
      "file_path: '..\\02_data\\01_input\\nok\\JA 2021 MG_2.xls', skip_to: 1, amount_of_rows: 1\n",
      "file_path: '..\\02_data\\01_input\\nok\\JA 2021 MG_2.xls', skip_to: 53, amount_of_rows: 5\n",
      "file_path: '..\\02_data\\01_input\\nok\\JA 2021 MG_2.xls', skip_to: 1, amount_of_rows: 1\n",
      "file_path: '..\\02_data\\01_input\\nok\\JA 2021 MG_2.xls', skip_to: 48, amount_of_rows: 5\n",
      "file_path: '..\\02_data\\01_input\\nok\\JA 2021 MG_2.xls', skip_to: 1, amount_of_rows: 1\n",
      "file_path: '..\\02_data\\01_input\\nok\\JA 2021 MG_2.xls', skip_to: 53, amount_of_rows: 5\n",
      "file_path: '..\\02_data\\01_input\\nok\\JA 2021 MG_2.xls', skip_to: 1, amount_of_rows: 1\n",
      "file_path: '..\\02_data\\01_input\\nok\\JA 2021 MG_2.xls', skip_to: 48, amount_of_rows: 5\n",
      "file_path: '..\\02_data\\01_input\\nok\\JA 2021 MG_2.xls', skip_to: 1, amount_of_rows: 1\n",
      "file_path: '..\\02_data\\01_input\\nok\\JA 2021 MG_2.xls', skip_to: 53, amount_of_rows: 5\n",
      "file_path: '..\\02_data\\01_input\\nok\\JA 2021 MG_2.xls', skip_to: 1, amount_of_rows: 1\n",
      "file_path: '..\\02_data\\01_input\\nok\\JA 2021 MG_2.xls', skip_to: 48, amount_of_rows: 5\n",
      "file_path: '..\\02_data\\01_input\\nok\\JA 2021 MG_2.xls', skip_to: 1, amount_of_rows: 1\n",
      "file_path: '..\\02_data\\01_input\\nok\\JA 2021 MG_2.xls', skip_to: 53, amount_of_rows: 5\n",
      "file_path: '..\\02_data\\01_input\\nok\\JA 2021 MG_2.xls', skip_to: 1, amount_of_rows: 1\n",
      "file_path: '..\\02_data\\01_input\\nok\\JA 2021 MG_2.xls', skip_to: 48, amount_of_rows: 5\n",
      "file_path: '..\\02_data\\01_input\\nok\\JA 2021 MG_2.xls', skip_to: 1, amount_of_rows: 1\n",
      "file_path: '..\\02_data\\01_input\\nok\\JA 2021 MG_2.xls', skip_to: 53, amount_of_rows: 5\n",
      "file_path: '..\\02_data\\01_input\\nok\\JA 2021 MG_2.xls', skip_to: 1, amount_of_rows: 1\n",
      "file_path: '..\\02_data\\01_input\\nok\\JA 2021 MG_2.xls', skip_to: 48, amount_of_rows: 5\n",
      "file_path: '..\\02_data\\01_input\\nok\\JA 2021 MG_2.xls', skip_to: 1, amount_of_rows: 1\n",
      "file_path: '..\\02_data\\01_input\\nok\\JA 2021 MG_2.xls', skip_to: 53, amount_of_rows: 5\n"
     ]
    }
   ],
   "source": [
    "sheet_names = [\n",
    "    'Pasettistraße 1OG'\n",
    "    , 'Pasettistraße EG'\n",
    "    , 'Herbortgasse'\n",
    "    , 'Geiselbergstraße'\n",
    "    , 'Gudrunstraße'\n",
    "    , 'Knöllgasse'\n",
    "    ]\n",
    "file_name = 'JA 2021 MG_2.xls'\n",
    "\n",
    "all_kindergarten = pd.DataFrame()\n",
    "for sheet_name in sheet_names:\n",
    "    part_one = get_part_one(sheet_name, file_name)\n",
    "    part_two = get_part_two(sheet_name, file_name)\n",
    "    current_sheet = pd.concat([part_one, part_two], ignore_index=True)\n",
    "    current_sheet['standortadresse'] = sheet_name\n",
    "    all_kindergarten = pd.concat([all_kindergarten, current_sheet], ignore_index=True)\n",
    "\n",
    "\n",
    "\n",
    "\n",
    "\n",
    "\n",
    "\n",
    "\n",
    "all_hort = pd.DataFrame()\n",
    "for sheet_name in sheet_names:\n",
    "    part_one = hort_get_part_one(sheet_name, file_name)\n",
    "    part_two = hort_get_part_two(\n",
    "        sheet_name\n",
    "        , file_name\n",
    "        , sheet_definitions = [(54, 58)]\n",
    "        , usecols = \"A, F\"\n",
    "        , ebene_1 = \"A. Elternbeiträge\"\n",
    "        , ebene_2 = \"HORT\"\n",
    "        , ebene_3 = 'Einmalzahlungen pro Kind:'\n",
    "        )\n",
    "    current_sheet = pd.concat([part_one, part_two], ignore_index=True)\n",
    "    current_sheet['standortadresse'] = sheet_name\n",
    "    all_hort = pd.concat([all_hort, current_sheet], ignore_index=True)\n",
    "\n",
    "\n",
    "hort_and_kindergarten = pd.concat([all_hort, all_kindergarten], ignore_index=True)"
   ]
  },
  {
   "cell_type": "code",
   "execution_count": 7,
   "metadata": {},
   "outputs": [
    {
     "name": "stdout",
     "output_type": "stream",
     "text": [
      "file_path: '..\\02_data\\01_input\\nok\\JA 2021 MG_2.xls', skip_to: 2, amount_of_rows: 2\n",
      "file_path: '..\\02_data\\01_input\\nok\\JA 2021 MG_2.xls', skip_to: 1, amount_of_rows: 1\n",
      "Data inserted successfully.\n"
     ]
    }
   ],
   "source": [
    "table_name = 'Stardortinformation_Elternbeitraege'\n",
    "\n",
    "write_to_db(table_name, hort_and_kindergarten, file_name)"
   ]
  }
 ],
 "metadata": {
  "kernelspec": {
   "display_name": "Python 3",
   "language": "python",
   "name": "python3"
  },
  "language_info": {
   "codemirror_mode": {
    "name": "ipython",
    "version": 3
   },
   "file_extension": ".py",
   "mimetype": "text/x-python",
   "name": "python",
   "nbconvert_exporter": "python",
   "pygments_lexer": "ipython3",
   "version": "3.12.1"
  }
 },
 "nbformat": 4,
 "nbformat_minor": 2
}
